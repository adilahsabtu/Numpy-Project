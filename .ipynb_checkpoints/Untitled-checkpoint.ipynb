{
 "cells": [
  {
   "cell_type": "code",
   "execution_count": 3,
   "metadata": {
    "collapsed": true
   },
   "outputs": [],
   "source": [
    "import numpy as np"
   ]
  },
  {
   "cell_type": "code",
   "execution_count": 8,
   "metadata": {
    "collapsed": false
   },
   "outputs": [
    {
     "data": {
      "text/plain": [
       "array([[0, 1, 2],\n",
       "       [3, 4, 5],\n",
       "       [6, 7, 8]])"
      ]
     },
     "execution_count": 8,
     "metadata": {},
     "output_type": "execute_result"
    }
   ],
   "source": [
    "M = array([[0, 1, 2], [3, 4, 5], [6, 7, 8]])\n",
    "M"
   ]
  },
  {
   "cell_type": "code",
   "execution_count": 9,
   "metadata": {
    "collapsed": false
   },
   "outputs": [
    {
     "data": {
      "text/plain": [
       "array([[0, 1, 2],\n",
       "       [3, 4, 5],\n",
       "       [6, 7, 8]])"
      ]
     },
     "execution_count": 9,
     "metadata": {},
     "output_type": "execute_result"
    }
   ],
   "source": [
    "M = array([[0, 1, 2], [3, 4, 5], [6, 7, 8]])\n",
    "M"
   ]
  },
  {
   "cell_type": "code",
   "execution_count": 7,
   "metadata": {
    "collapsed": false
   },
   "outputs": [
    {
     "name": "stdout",
     "output_type": "stream",
     "text": [
      "9\n",
      "10\n"
     ]
    }
   ],
   "source": [
    "print (sum(range(5),-1))\n",
    "from numpy import *\n",
    "print (sum(range(5),-1))\n"
   ]
  },
  {
   "cell_type": "code",
   "execution_count": 10,
   "metadata": {
    "collapsed": false
   },
   "outputs": [
    {
     "name": "stderr",
     "output_type": "stream",
     "text": [
      "C:\\Users\\Public\\Adilah\\Anaconda3\\lib\\site-packages\\ipykernel\\__main__.py:1: RuntimeWarning: invalid value encountered in sqrt\n",
      "  if __name__ == '__main__':\n"
     ]
    },
    {
     "data": {
      "text/plain": [
       "False"
      ]
     },
     "execution_count": 10,
     "metadata": {},
     "output_type": "execute_result"
    }
   ],
   "source": [
    "np.sqrt(-1) == np.emath.sqrt(-1)\n"
   ]
  },
  {
   "cell_type": "code",
   "execution_count": 11,
   "metadata": {
    "collapsed": false
   },
   "outputs": [
    {
     "data": {
      "text/plain": [
       "array([ 0.93318624,  0.86569416,  0.27545053,  0.99904839,  0.83020811,\n",
       "        0.77502105,  0.56943155,  0.58229905,  0.17532142,  0.86387236,\n",
       "        0.165436  ,  0.82887257,  0.18172602,  0.51802754,  0.92139224,\n",
       "        0.35082174,  0.48674886,  0.891726  ,  0.37581305,  0.83723225,\n",
       "        0.56145586,  0.63057836,  0.88347522,  0.67561389,  0.83281221,\n",
       "        0.77359357,  0.05218806,  0.42431348,  0.69727583,  0.80736836])"
      ]
     },
     "execution_count": 11,
     "metadata": {},
     "output_type": "execute_result"
    }
   ],
   "source": [
    "np.random.rand(30)"
   ]
  },
  {
   "cell_type": "code",
   "execution_count": 12,
   "metadata": {
    "collapsed": false
   },
   "outputs": [
    {
     "data": {
      "text/plain": [
       "array([ 0.36265797,  0.25348196,  0.2382456 ,  0.81840019,  0.60984461,\n",
       "        0.86203526,  0.93664737,  0.87026353,  0.94606405,  0.75965565,\n",
       "        0.4401126 ,  0.12612687,  0.47195781,  0.54069816,  0.32507605,\n",
       "        0.81222191,  0.10566931,  0.43288465,  0.86922238,  0.39373196,\n",
       "        0.75908726,  0.57939212,  0.43725539,  0.25324125,  0.11564073,\n",
       "        0.13846141,  0.88466121,  0.14215487,  0.59084883,  0.48230869])"
      ]
     },
     "execution_count": 12,
     "metadata": {},
     "output_type": "execute_result"
    }
   ],
   "source": [
    "x = np.random.rand(30)\n",
    "x"
   ]
  },
  {
   "cell_type": "code",
   "execution_count": 13,
   "metadata": {
    "collapsed": false
   },
   "outputs": [
    {
     "data": {
      "text/plain": [
       "0.518601654576201"
      ]
     },
     "execution_count": 13,
     "metadata": {},
     "output_type": "execute_result"
    }
   ],
   "source": [
    "mean(x)"
   ]
  },
  {
   "cell_type": "code",
   "execution_count": 20,
   "metadata": {
    "collapsed": false
   },
   "outputs": [
    {
     "data": {
      "text/plain": [
       "array([[ 0.51047538,  0.97509903,  0.635441  ],\n",
       "       [ 0.89386438,  0.99976592,  0.08780134],\n",
       "       [ 0.7023646 ,  0.24749459,  0.57647356],\n",
       "       [ 0.56581839,  0.81180356,  0.55185798],\n",
       "       [ 0.16107164,  0.27450638,  0.33536834]])"
      ]
     },
     "execution_count": 20,
     "metadata": {},
     "output_type": "execute_result"
    }
   ],
   "source": [
    "a = np.random.rand(5,3)\n",
    "a"
   ]
  },
  {
   "cell_type": "code",
   "execution_count": 23,
   "metadata": {
    "collapsed": false
   },
   "outputs": [
    {
     "data": {
      "text/plain": [
       "array([[-0.60260987,  0.36004133],\n",
       "       [-1.072401  ,  0.55941896],\n",
       "       [ 0.07074918, -0.62815435]])"
      ]
     },
     "execution_count": 23,
     "metadata": {},
     "output_type": "execute_result"
    }
   ],
   "source": [
    "b = np.random.randn(3,2)\n",
    "b"
   ]
  },
  {
   "cell_type": "code",
   "execution_count": 24,
   "metadata": {
    "collapsed": false
   },
   "outputs": [
    {
     "data": {
      "text/plain": [
       "array([[ -1.30835774e+00,   3.30126096e-01],\n",
       "       [ -1.60458959e+00,   8.25963338e-01],\n",
       "       [ -6.47880250e-01,   2.92190757e-02],\n",
       "       [ -1.17250319e+00,   3.11204318e-01],\n",
       "       [ -3.67717239e-01,   8.93442510e-04]])"
      ]
     },
     "execution_count": 24,
     "metadata": {},
     "output_type": "execute_result"
    }
   ],
   "source": [
    "np.dot(a,b)"
   ]
  },
  {
   "cell_type": "code",
   "execution_count": 25,
   "metadata": {
    "collapsed": false
   },
   "outputs": [
    {
     "data": {
      "text/plain": [
       "array([ 0.85667156,  0.11355622,  0.39048701,  0.99115758,  0.36410102,\n",
       "        0.69497562,  0.41100653,  0.72834465,  0.38761951,  0.74401849])"
      ]
     },
     "execution_count": 25,
     "metadata": {},
     "output_type": "execute_result"
    }
   ],
   "source": [
    "x = np.random.rand(10)\n",
    "x"
   ]
  },
  {
   "cell_type": "code",
   "execution_count": 26,
   "metadata": {
    "collapsed": false
   },
   "outputs": [
    {
     "data": {
      "text/plain": [
       "array([ 0.11355622,  0.36410102,  0.38761951,  0.39048701,  0.41100653,\n",
       "        0.69497562,  0.72834465,  0.74401849,  0.85667156,  0.99115758])"
      ]
     },
     "execution_count": 26,
     "metadata": {},
     "output_type": "execute_result"
    }
   ],
   "source": [
    "sort(x)"
   ]
  },
  {
   "cell_type": "code",
   "execution_count": 30,
   "metadata": {
    "collapsed": false
   },
   "outputs": [
    {
     "data": {
      "text/plain": [
       "array([ 0.00184033,  0.01785447,  0.02133722,  0.02674516,  0.04186693,\n",
       "        0.06528527,  0.0720526 ,  0.07677207,  0.08080153,  0.11813695,\n",
       "        0.12048748,  0.12487656,  0.17519375,  0.17752748,  0.20008093,\n",
       "        0.20486982,  0.21277847,  0.24841438,  0.25079375,  0.25342122,\n",
       "        0.26725573,  0.27672837,  0.27778651,  0.2881922 ,  0.29144369,\n",
       "        0.29676794,  0.2972714 ,  0.30126116,  0.30926445,  0.31825776,\n",
       "        0.33058707,  0.33610856,  0.34230007,  0.35812606,  0.4015938 ,\n",
       "        0.41099769,  0.42241558,  0.43122164,  0.43525552,  0.43706684,\n",
       "        0.43804001,  0.44950486,  0.46567917,  0.48031733,  0.5058816 ,\n",
       "        0.52910504,  0.53733005,  0.5405814 ,  0.5602021 ,  0.57093958,\n",
       "        0.57404592,  0.57619522,  0.59031313,  0.59129762,  0.59337854,\n",
       "        0.59544346,  0.60525353,  0.62886313,  0.63381971,  0.64097226,\n",
       "        0.6429196 ,  0.65290207,  0.66852124,  0.67338165,  0.68304127,\n",
       "        0.68314737,  0.69694461,  0.70759352,  0.73867482,  0.75572682,\n",
       "        0.75723907,  0.77074569,  0.77478245,  0.77508208,  0.77563727,\n",
       "        0.78324879,  0.78659478,  0.79954557,  0.80143283,  0.80496711,\n",
       "        0.80579904,  0.80944838,  0.83951596,  0.8610749 ,  0.90180078,\n",
       "        0.91063098,  0.91303388,  0.91383965,  0.91519252,  0.91540847,\n",
       "        0.92159   ,  0.93261172,  0.94495156,  0.95091119,  0.95256159,\n",
       "        0.96502787,  0.97343555,  0.97684273,  0.9848375 ,  0.99270921])"
      ]
     },
     "execution_count": 30,
     "metadata": {},
     "output_type": "execute_result"
    }
   ],
   "source": [
    "y = np.random.rand(100)\n",
    "y.sort()\n",
    "y"
   ]
  },
  {
   "cell_type": "code",
   "execution_count": 36,
   "metadata": {
    "collapsed": false
   },
   "outputs": [
    {
     "data": {
      "text/plain": [
       "array([ 0.00184033,  0.01785447,  0.02133722,  0.02674516,  0.04186693,\n",
       "        0.06528527,  0.0720526 ,  0.07677207,  0.08080153,  0.11813695,\n",
       "        0.12048748,  0.12487656,  0.17519375,  0.17752748,  0.20008093,\n",
       "        0.20486982,  0.21277847,  0.24841438,  0.25079375,  0.25342122,\n",
       "        0.26725573,  0.27672837,  0.27778651,  0.2881922 ,  0.29144369,\n",
       "        0.29676794,  0.2972714 ,  0.30126116,  0.30926445,  0.31825776,\n",
       "        0.33058707,  0.33610856,  0.34230007,  0.35812606,  0.4015938 ,\n",
       "        0.41099769,  0.42241558,  0.43122164,  0.43525552,  0.43706684,\n",
       "        0.43804001,  0.44950486,  0.46567917,  0.48031733,  0.5058816 ,\n",
       "        0.52910504,  0.53733005,  0.5405814 ,  0.5602021 ,  0.57093958,\n",
       "        0.57404592,  0.57619522,  0.59031313,  0.59129762,  0.59337854,\n",
       "        0.59544346,  0.60525353,  0.62886313,  0.63381971,  0.64097226,\n",
       "        0.6429196 ,  0.65290207,  0.66852124,  0.67338165,  0.68304127,\n",
       "        0.68314737,  0.69694461,  0.70759352,  0.73867482,  0.75572682,\n",
       "        0.75723907,  0.77074569,  0.77478245,  0.77508208,  0.77563727,\n",
       "        0.78324879,  0.78659478,  0.79954557,  0.80143283,  0.80496711,\n",
       "        0.80579904,  0.80944838,  0.83951596,  0.8610749 ,  0.90180078,\n",
       "        0.91063098,  0.91303388,  0.91383965,  0.91519252,  0.91540847,\n",
       "        0.92159   ,  0.93261172,  0.94495156,  0.95091119,  0.95256159,\n",
       "        0.96502787,  0.97343555,  0.97684273,  0.9848375 ,  0.        ])"
      ]
     },
     "execution_count": 36,
     "metadata": {},
     "output_type": "execute_result"
    }
   ],
   "source": [
    "y[99]=0\n",
    "y"
   ]
  },
  {
   "cell_type": "code",
   "execution_count": 34,
   "metadata": {
    "collapsed": false,
    "scrolled": true
   },
   "outputs": [
    {
     "data": {
      "text/plain": [
       "0.99270921126595435"
      ]
     },
     "execution_count": 34,
     "metadata": {},
     "output_type": "execute_result"
    }
   ],
   "source": [
    "z"
   ]
  },
  {
   "cell_type": "code",
   "execution_count": 45,
   "metadata": {
    "collapsed": false
   },
   "outputs": [
    {
     "data": {
      "text/plain": [
       "array([  60,  672, 1932, 3840, 6396])"
      ]
     },
     "execution_count": 45,
     "metadata": {},
     "output_type": "execute_result"
    }
   ],
   "source": [
    "a = arange(15).reshape(5, 3)\n",
    "b = arange(9).reshape(3, 3)\n",
    "diag(dot(dot(a, b), a.T))"
   ]
  },
  {
   "cell_type": "code",
   "execution_count": 38,
   "metadata": {
    "collapsed": false
   },
   "outputs": [
    {
     "data": {
      "text/plain": [
       "array([[-0.19131292,  0.88247413, -1.1921199 ,  0.57419114, -1.1406266 ],\n",
       "       [ 0.39282373, -0.37307021, -0.1184827 ,  0.13617954, -1.31061254],\n",
       "       [ 1.02701481,  0.13071084,  2.3134581 ,  0.23410059,  0.30051501],\n",
       "       [ 2.01254168,  0.38673111, -1.85242436, -2.21486307, -0.50462707],\n",
       "       [ 0.70331947, -0.3110129 , -0.66989487, -0.56582146,  0.78588519]])"
      ]
     },
     "execution_count": 38,
     "metadata": {},
     "output_type": "execute_result"
    }
   ],
   "source": [
    "e = np.random.randn(5, 5)\n",
    "e"
   ]
  },
  {
   "cell_type": "code",
   "execution_count": 39,
   "metadata": {
    "collapsed": false
   },
   "outputs": [
    {
     "data": {
      "text/plain": [
       "array([[ 0.05739538,  0.32427228,  1.09637182, -0.21709402, -0.61714341],\n",
       "       [ 0.75086727,  0.32368749, -0.24247601,  0.15716387,  0.70666195],\n",
       "       [-2.99912081, -0.27956179, -1.67078054, -0.37253536,  0.10488828],\n",
       "       [ 0.94924643, -0.79299308, -0.8555772 ,  0.58696341, -0.22966817],\n",
       "       [-1.59224564,  0.02371794,  1.08386725, -0.11266689, -1.11428269]])"
      ]
     },
     "execution_count": 39,
     "metadata": {},
     "output_type": "execute_result"
    }
   ],
   "source": [
    "f = np.random.randn(5, 5)\n",
    "f"
   ]
  },
  {
   "cell_type": "code",
   "execution_count": 42,
   "metadata": {
    "collapsed": false
   },
   "outputs": [
    {
     "data": {
      "text/plain": [
       "array([[ 6.58815866,  0.07449663, -0.15951084,  1.08987279,  1.75574604],\n",
       "       [ 2.31384904, -0.09932754, -0.81794209,  0.1278212 ,  0.91062621],\n",
       "       [-7.03752251, -0.44992515, -2.64555767, -0.9607103 , -0.68741655],\n",
       "       [ 4.66257816,  3.04006094,  6.55575313, -0.92922585, -0.09205553],\n",
       "       [ 0.02750725,  0.78200511,  3.30165928, -0.37266665, -1.46984116]])"
      ]
     },
     "execution_count": 42,
     "metadata": {},
     "output_type": "execute_result"
    }
   ],
   "source": [
    "g = np.dot(e, f)\n",
    "g"
   ]
  },
  {
   "cell_type": "code",
   "execution_count": 41,
   "metadata": {
    "collapsed": false
   },
   "outputs": [
    {
     "data": {
      "text/plain": [
       "array([ 6.58815866, -0.09932754, -2.64555767, -0.92922585, -1.46984116])"
      ]
     },
     "execution_count": 41,
     "metadata": {},
     "output_type": "execute_result"
    }
   ],
   "source": [
    "diag(g)"
   ]
  }
 ],
 "metadata": {
  "kernelspec": {
   "display_name": "Python 3",
   "language": "python",
   "name": "python3"
  },
  "language_info": {
   "codemirror_mode": {
    "name": "ipython",
    "version": 3
   },
   "file_extension": ".py",
   "mimetype": "text/x-python",
   "name": "python",
   "nbconvert_exporter": "python",
   "pygments_lexer": "ipython3",
   "version": "3.6.0"
  }
 },
 "nbformat": 4,
 "nbformat_minor": 2
}
